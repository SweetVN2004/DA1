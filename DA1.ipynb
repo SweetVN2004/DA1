{
  "nbformat": 4,
  "nbformat_minor": 0,
  "metadata": {
    "colab": {
      "provenance": [],
      "gpuType": "T4"
    },
    "kernelspec": {
      "name": "python3",
      "display_name": "Python 3"
    },
    "language_info": {
      "name": "python"
    },
    "accelerator": "GPU"
  },
  "cells": [
    {
      "cell_type": "markdown",
      "source": [
        "# Chuẩn bị dữ liệu"
      ],
      "metadata": {
        "id": "1gBShYSrmU5_"
      }
    },
    {
      "cell_type": "code",
      "source": [
        "# Tải dữ liệu cho model\n",
        "!git clone https://github.com/Luan2004/data.git"
      ],
      "metadata": {
        "colab": {
          "base_uri": "https://localhost:8080/"
        },
        "id": "IAMdbrmFmm5M",
        "outputId": "5313c917-4bb5-4e99-bbf9-10a3cfda2207"
      },
      "execution_count": null,
      "outputs": [
        {
          "output_type": "stream",
          "name": "stdout",
          "text": [
            "Cloning into 'data'...\n",
            "remote: Enumerating objects: 18, done.\u001b[K\n",
            "remote: Counting objects: 100% (18/18), done.\u001b[K\n",
            "remote: Compressing objects: 100% (16/16), done.\u001b[K\n",
            "remote: Total 18 (delta 5), reused 0 (delta 0), pack-reused 0 (from 0)\u001b[K\n",
            "Receiving objects: 100% (18/18), 3.51 MiB | 1.10 MiB/s, done.\n",
            "Resolving deltas: 100% (5/5), done.\n"
          ]
        }
      ]
    },
    {
      "cell_type": "code",
      "source": [
        "import numpy as np\n",
        "import pandas as pd\n",
        "from sklearn.preprocessing import LabelEncoder, StandardScaler\n",
        "from tensorflow.keras.utils import to_categorical # type: ignore\n",
        "\n",
        "def preprocessing_data(path, type):\n",
        "  dtrain = pd.read_csv(path)\n",
        "  # Tách label và các đặc trưng\n",
        "  X = dtrain.iloc[:, :-1].values  # Các cột đặc trưng\n",
        "  y = dtrain.iloc[:, -1].values   # Cột nhãn\n",
        "\n",
        "\n",
        "\n",
        "  # Chuẩn hóa dữ liệu\n",
        "  scaler = StandardScaler()\n",
        "  if (type == 'train'):\n",
        "    X_scaled = scaler.fit_transform(X)\n",
        "  else:\n",
        "    df = pd.read_csv('/content/data/Dtrain1.csv')\n",
        "    X_pretrain = df.iloc[:, :-1].values\n",
        "    scaler.fit(X_pretrain)\n",
        "    X_scaled = scaler.transform(X)\n",
        "\n",
        "  # Mã hóa nhãn thành số nguyên\n",
        "  global label_encoder\n",
        "  label_encoder = LabelEncoder()\n",
        "  y_encoded = label_encoder.fit_transform(y)\n",
        "\n",
        "  # Chuyển nhãn thành dạng one-hot encoding\n",
        "  y_onehot = to_categorical(y_encoded, num_classes=15)\n",
        "\n",
        "  # Định hình lại dữ liệu (samples, timesteps, features)\n",
        "  X_scaled = np.reshape(X_scaled, (X_scaled.shape[0], 1, X_scaled.shape[1]))\n",
        "  return X_scaled, y_onehot\n",
        "\n",
        "X_train, y_train = preprocessing_data('/content/data/Dtrain1.csv', 'train')   # Tập train\n",
        "X_test, y_test = preprocessing_data('/content/data/Dtest1.csv', 'test')       # Tập test\n",
        "Xp, yp = preprocessing_data('/content/data/predict.csv', 'predict')         # Tập predict\n"
      ],
      "metadata": {
        "id": "SdU9x6buzGW5"
      },
      "execution_count": null,
      "outputs": []
    },
    {
      "cell_type": "markdown",
      "source": [
        "# Xây dựng mô hình GRU"
      ],
      "metadata": {
        "id": "wqQsJ_o6rnrr"
      }
    },
    {
      "cell_type": "code",
      "source": [
        "from tensorflow.keras.models import Sequential # type: ignore\n",
        "from tensorflow.keras.layers import  Input, Dense, Dropout, GRU, BatchNormalization # type: ignore\n",
        "from tensorflow.keras.optimizers import Adam # type: ignore\n",
        "from tensorflow.keras.metrics import Precision, Recall # type: ignore\n",
        "\n",
        "model = Sequential()\n",
        "model.add(Input(shape=(X_train.shape[1], X_train.shape[2])))\n",
        "model.add(GRU(units=128, return_sequences=True))\n",
        "model.add(Dropout(0.2))\n",
        "model.add(GRU(units=64, return_sequences=True))\n",
        "model.add(Dropout(0.2))\n",
        "model.add(GRU(units=32))\n",
        "model.add(Dropout(0.2))\n",
        "model.add(Dense(units=15, activation='softmax'))"
      ],
      "metadata": {
        "id": "niaMohzhrwqp"
      },
      "execution_count": null,
      "outputs": []
    },
    {
      "cell_type": "markdown",
      "source": [
        "**Compile mô hình**"
      ],
      "metadata": {
        "id": "TylE9H9Avw5R"
      }
    },
    {
      "cell_type": "code",
      "source": [
        "optimizers = Adam(learning_rate=0.00008)\n",
        "model.compile(optimizer=optimizers, loss='categorical_crossentropy', metrics=['accuracy', Precision(), Recall()])"
      ],
      "metadata": {
        "id": "Lp2tau_qvLWl"
      },
      "execution_count": null,
      "outputs": []
    },
    {
      "cell_type": "markdown",
      "source": [
        "# Huấn luyện model"
      ],
      "metadata": {
        "id": "CL7FkqbCv-Ja"
      }
    },
    {
      "cell_type": "code",
      "source": [
        "history = model.fit(X_train, y_train, epochs=50, batch_size=32, validation_data=(X_test, y_test))"
      ],
      "metadata": {
        "colab": {
          "base_uri": "https://localhost:8080/"
        },
        "id": "UKVb6x_9wAtG",
        "outputId": "10c079d6-ad5c-4c3e-b5d2-ca94353fc116"
      },
      "execution_count": null,
      "outputs": [
        {
          "output_type": "stream",
          "name": "stdout",
          "text": [
            "Epoch 1/50\n",
            "\u001b[1m1225/1225\u001b[0m \u001b[32m━━━━━━━━━━━━━━━━━━━━\u001b[0m\u001b[37m\u001b[0m \u001b[1m16s\u001b[0m 8ms/step - accuracy: 0.5195 - loss: 2.1437 - precision: 0.7233 - recall: 0.0561 - val_accuracy: 0.9152 - val_loss: 0.5394 - val_precision: 0.9769 - val_recall: 0.8304\n",
            "Epoch 2/50\n",
            "\u001b[1m1225/1225\u001b[0m \u001b[32m━━━━━━━━━━━━━━━━━━━━\u001b[0m\u001b[37m\u001b[0m \u001b[1m8s\u001b[0m 7ms/step - accuracy: 0.9170 - loss: 0.4666 - precision: 0.9751 - recall: 0.8229 - val_accuracy: 0.9644 - val_loss: 0.1694 - val_precision: 0.9694 - val_recall: 0.9491\n",
            "Epoch 3/50\n",
            "\u001b[1m1225/1225\u001b[0m \u001b[32m━━━━━━━━━━━━━━━━━━━━\u001b[0m\u001b[37m\u001b[0m \u001b[1m12s\u001b[0m 8ms/step - accuracy: 0.9630 - loss: 0.1948 - precision: 0.9746 - recall: 0.9383 - val_accuracy: 0.9744 - val_loss: 0.1016 - val_precision: 0.9755 - val_recall: 0.9739\n",
            "Epoch 4/50\n",
            "\u001b[1m1225/1225\u001b[0m \u001b[32m━━━━━━━━━━━━━━━━━━━━\u001b[0m\u001b[37m\u001b[0m \u001b[1m11s\u001b[0m 9ms/step - accuracy: 0.9704 - loss: 0.1291 - precision: 0.9753 - recall: 0.9628 - val_accuracy: 0.9762 - val_loss: 0.0813 - val_precision: 0.9776 - val_recall: 0.9756\n",
            "Epoch 5/50\n",
            "\u001b[1m1225/1225\u001b[0m \u001b[32m━━━━━━━━━━━━━━━━━━━━\u001b[0m\u001b[37m\u001b[0m \u001b[1m20s\u001b[0m 8ms/step - accuracy: 0.9725 - loss: 0.1006 - precision: 0.9769 - recall: 0.9689 - val_accuracy: 0.9769 - val_loss: 0.0729 - val_precision: 0.9780 - val_recall: 0.9769\n",
            "Epoch 6/50\n",
            "\u001b[1m1225/1225\u001b[0m \u001b[32m━━━━━━━━━━━━━━━━━━━━\u001b[0m\u001b[37m\u001b[0m \u001b[1m10s\u001b[0m 8ms/step - accuracy: 0.9770 - loss: 0.0810 - precision: 0.9794 - recall: 0.9750 - val_accuracy: 0.9781 - val_loss: 0.0653 - val_precision: 0.9791 - val_recall: 0.9770\n",
            "Epoch 7/50\n",
            "\u001b[1m1225/1225\u001b[0m \u001b[32m━━━━━━━━━━━━━━━━━━━━\u001b[0m\u001b[37m\u001b[0m \u001b[1m13s\u001b[0m 10ms/step - accuracy: 0.9764 - loss: 0.0796 - precision: 0.9791 - recall: 0.9742 - val_accuracy: 0.9790 - val_loss: 0.0620 - val_precision: 0.9801 - val_recall: 0.9787\n",
            "Epoch 8/50\n",
            "\u001b[1m1225/1225\u001b[0m \u001b[32m━━━━━━━━━━━━━━━━━━━━\u001b[0m\u001b[37m\u001b[0m \u001b[1m18s\u001b[0m 8ms/step - accuracy: 0.9795 - loss: 0.0669 - precision: 0.9818 - recall: 0.9782 - val_accuracy: 0.9796 - val_loss: 0.0579 - val_precision: 0.9804 - val_recall: 0.9790\n",
            "Epoch 9/50\n",
            "\u001b[1m1225/1225\u001b[0m \u001b[32m━━━━━━━━━━━━━━━━━━━━\u001b[0m\u001b[37m\u001b[0m \u001b[1m19s\u001b[0m 7ms/step - accuracy: 0.9796 - loss: 0.0635 - precision: 0.9818 - recall: 0.9783 - val_accuracy: 0.9796 - val_loss: 0.0573 - val_precision: 0.9805 - val_recall: 0.9795\n",
            "Epoch 10/50\n",
            "\u001b[1m1225/1225\u001b[0m \u001b[32m━━━━━━━━━━━━━━━━━━━━\u001b[0m\u001b[37m\u001b[0m \u001b[1m10s\u001b[0m 8ms/step - accuracy: 0.9781 - loss: 0.0651 - precision: 0.9805 - recall: 0.9767 - val_accuracy: 0.9797 - val_loss: 0.0569 - val_precision: 0.9804 - val_recall: 0.9796\n",
            "Epoch 11/50\n",
            "\u001b[1m1225/1225\u001b[0m \u001b[32m━━━━━━━━━━━━━━━━━━━━\u001b[0m\u001b[37m\u001b[0m \u001b[1m20s\u001b[0m 8ms/step - accuracy: 0.9797 - loss: 0.0587 - precision: 0.9813 - recall: 0.9790 - val_accuracy: 0.9797 - val_loss: 0.0543 - val_precision: 0.9805 - val_recall: 0.9796\n",
            "Epoch 12/50\n",
            "\u001b[1m1225/1225\u001b[0m \u001b[32m━━━━━━━━━━━━━━━━━━━━\u001b[0m\u001b[37m\u001b[0m \u001b[1m10s\u001b[0m 8ms/step - accuracy: 0.9793 - loss: 0.0595 - precision: 0.9811 - recall: 0.9782 - val_accuracy: 0.9798 - val_loss: 0.0542 - val_precision: 0.9805 - val_recall: 0.9797\n",
            "Epoch 13/50\n",
            "\u001b[1m1225/1225\u001b[0m \u001b[32m━━━━━━━━━━━━━━━━━━━━\u001b[0m\u001b[37m\u001b[0m \u001b[1m11s\u001b[0m 8ms/step - accuracy: 0.9820 - loss: 0.0533 - precision: 0.9832 - recall: 0.9810 - val_accuracy: 0.9803 - val_loss: 0.0528 - val_precision: 0.9809 - val_recall: 0.9800\n",
            "Epoch 14/50\n",
            "\u001b[1m1225/1225\u001b[0m \u001b[32m━━━━━━━━━━━━━━━━━━━━\u001b[0m\u001b[37m\u001b[0m \u001b[1m11s\u001b[0m 9ms/step - accuracy: 0.9812 - loss: 0.0530 - precision: 0.9825 - recall: 0.9803 - val_accuracy: 0.9805 - val_loss: 0.0512 - val_precision: 0.9809 - val_recall: 0.9801\n",
            "Epoch 15/50\n",
            "\u001b[1m1225/1225\u001b[0m \u001b[32m━━━━━━━━━━━━━━━━━━━━\u001b[0m\u001b[37m\u001b[0m \u001b[1m20s\u001b[0m 9ms/step - accuracy: 0.9801 - loss: 0.0562 - precision: 0.9817 - recall: 0.9792 - val_accuracy: 0.9805 - val_loss: 0.0501 - val_precision: 0.9810 - val_recall: 0.9799\n",
            "Epoch 16/50\n",
            "\u001b[1m1225/1225\u001b[0m \u001b[32m━━━━━━━━━━━━━━━━━━━━\u001b[0m\u001b[37m\u001b[0m \u001b[1m20s\u001b[0m 9ms/step - accuracy: 0.9809 - loss: 0.0517 - precision: 0.9820 - recall: 0.9800 - val_accuracy: 0.9806 - val_loss: 0.0493 - val_precision: 0.9812 - val_recall: 0.9799\n",
            "Epoch 17/50\n",
            "\u001b[1m1225/1225\u001b[0m \u001b[32m━━━━━━━━━━━━━━━━━━━━\u001b[0m\u001b[37m\u001b[0m \u001b[1m21s\u001b[0m 9ms/step - accuracy: 0.9815 - loss: 0.0502 - precision: 0.9826 - recall: 0.9807 - val_accuracy: 0.9805 - val_loss: 0.0498 - val_precision: 0.9811 - val_recall: 0.9801\n",
            "Epoch 18/50\n",
            "\u001b[1m1225/1225\u001b[0m \u001b[32m━━━━━━━━━━━━━━━━━━━━\u001b[0m\u001b[37m\u001b[0m \u001b[1m19s\u001b[0m 8ms/step - accuracy: 0.9821 - loss: 0.0462 - precision: 0.9832 - recall: 0.9810 - val_accuracy: 0.9805 - val_loss: 0.0474 - val_precision: 0.9810 - val_recall: 0.9800\n",
            "Epoch 19/50\n",
            "\u001b[1m1225/1225\u001b[0m \u001b[32m━━━━━━━━━━━━━━━━━━━━\u001b[0m\u001b[37m\u001b[0m \u001b[1m11s\u001b[0m 9ms/step - accuracy: 0.9810 - loss: 0.0482 - precision: 0.9820 - recall: 0.9798 - val_accuracy: 0.9805 - val_loss: 0.0476 - val_precision: 0.9812 - val_recall: 0.9802\n",
            "Epoch 20/50\n",
            "\u001b[1m1225/1225\u001b[0m \u001b[32m━━━━━━━━━━━━━━━━━━━━\u001b[0m\u001b[37m\u001b[0m \u001b[1m20s\u001b[0m 9ms/step - accuracy: 0.9811 - loss: 0.0469 - precision: 0.9821 - recall: 0.9804 - val_accuracy: 0.9808 - val_loss: 0.0462 - val_precision: 0.9817 - val_recall: 0.9804\n",
            "Epoch 21/50\n",
            "\u001b[1m1225/1225\u001b[0m \u001b[32m━━━━━━━━━━━━━━━━━━━━\u001b[0m\u001b[37m\u001b[0m \u001b[1m20s\u001b[0m 8ms/step - accuracy: 0.9826 - loss: 0.0461 - precision: 0.9836 - recall: 0.9818 - val_accuracy: 0.9814 - val_loss: 0.0459 - val_precision: 0.9823 - val_recall: 0.9806\n",
            "Epoch 22/50\n",
            "\u001b[1m1225/1225\u001b[0m \u001b[32m━━━━━━━━━━━━━━━━━━━━\u001b[0m\u001b[37m\u001b[0m \u001b[1m11s\u001b[0m 9ms/step - accuracy: 0.9829 - loss: 0.0451 - precision: 0.9836 - recall: 0.9817 - val_accuracy: 0.9812 - val_loss: 0.0458 - val_precision: 0.9819 - val_recall: 0.9806\n",
            "Epoch 23/50\n",
            "\u001b[1m1225/1225\u001b[0m \u001b[32m━━━━━━━━━━━━━━━━━━━━\u001b[0m\u001b[37m\u001b[0m \u001b[1m21s\u001b[0m 9ms/step - accuracy: 0.9825 - loss: 0.0443 - precision: 0.9836 - recall: 0.9817 - val_accuracy: 0.9816 - val_loss: 0.0443 - val_precision: 0.9823 - val_recall: 0.9811\n",
            "Epoch 24/50\n",
            "\u001b[1m1225/1225\u001b[0m \u001b[32m━━━━━━━━━━━━━━━━━━━━\u001b[0m\u001b[37m\u001b[0m \u001b[1m18s\u001b[0m 7ms/step - accuracy: 0.9820 - loss: 0.0456 - precision: 0.9831 - recall: 0.9816 - val_accuracy: 0.9812 - val_loss: 0.0465 - val_precision: 0.9816 - val_recall: 0.9812\n",
            "Epoch 25/50\n",
            "\u001b[1m1225/1225\u001b[0m \u001b[32m━━━━━━━━━━━━━━━━━━━━\u001b[0m\u001b[37m\u001b[0m \u001b[1m10s\u001b[0m 7ms/step - accuracy: 0.9821 - loss: 0.0459 - precision: 0.9827 - recall: 0.9813 - val_accuracy: 0.9824 - val_loss: 0.0431 - val_precision: 0.9830 - val_recall: 0.9823\n",
            "Epoch 26/50\n",
            "\u001b[1m1225/1225\u001b[0m \u001b[32m━━━━━━━━━━━━━━━━━━━━\u001b[0m\u001b[37m\u001b[0m \u001b[1m12s\u001b[0m 8ms/step - accuracy: 0.9833 - loss: 0.0424 - precision: 0.9837 - recall: 0.9826 - val_accuracy: 0.9820 - val_loss: 0.0438 - val_precision: 0.9822 - val_recall: 0.9814\n",
            "Epoch 27/50\n",
            "\u001b[1m1225/1225\u001b[0m \u001b[32m━━━━━━━━━━━━━━━━━━━━\u001b[0m\u001b[37m\u001b[0m \u001b[1m22s\u001b[0m 10ms/step - accuracy: 0.9832 - loss: 0.0415 - precision: 0.9839 - recall: 0.9826 - val_accuracy: 0.9829 - val_loss: 0.0426 - val_precision: 0.9831 - val_recall: 0.9825\n",
            "Epoch 28/50\n",
            "\u001b[1m1225/1225\u001b[0m \u001b[32m━━━━━━━━━━━━━━━━━━━━\u001b[0m\u001b[37m\u001b[0m \u001b[1m21s\u001b[0m 10ms/step - accuracy: 0.9827 - loss: 0.0448 - precision: 0.9834 - recall: 0.9819 - val_accuracy: 0.9830 - val_loss: 0.0424 - val_precision: 0.9832 - val_recall: 0.9827\n",
            "Epoch 29/50\n",
            "\u001b[1m1225/1225\u001b[0m \u001b[32m━━━━━━━━━━━━━━━━━━━━\u001b[0m\u001b[37m\u001b[0m \u001b[1m20s\u001b[0m 10ms/step - accuracy: 0.9830 - loss: 0.0426 - precision: 0.9837 - recall: 0.9825 - val_accuracy: 0.9831 - val_loss: 0.0421 - val_precision: 0.9832 - val_recall: 0.9827\n",
            "Epoch 30/50\n",
            "\u001b[1m1225/1225\u001b[0m \u001b[32m━━━━━━━━━━━━━━━━━━━━\u001b[0m\u001b[37m\u001b[0m \u001b[1m13s\u001b[0m 11ms/step - accuracy: 0.9831 - loss: 0.0416 - precision: 0.9838 - recall: 0.9824 - val_accuracy: 0.9833 - val_loss: 0.0422 - val_precision: 0.9832 - val_recall: 0.9829\n",
            "Epoch 31/50\n",
            "\u001b[1m1225/1225\u001b[0m \u001b[32m━━━━━━━━━━━━━━━━━━━━\u001b[0m\u001b[37m\u001b[0m \u001b[1m19s\u001b[0m 10ms/step - accuracy: 0.9832 - loss: 0.0404 - precision: 0.9836 - recall: 0.9822 - val_accuracy: 0.9831 - val_loss: 0.0419 - val_precision: 0.9831 - val_recall: 0.9827\n",
            "Epoch 32/50\n",
            "\u001b[1m1225/1225\u001b[0m \u001b[32m━━━━━━━━━━━━━━━━━━━━\u001b[0m\u001b[37m\u001b[0m \u001b[1m22s\u001b[0m 11ms/step - accuracy: 0.9833 - loss: 0.0404 - precision: 0.9839 - recall: 0.9827 - val_accuracy: 0.9835 - val_loss: 0.0414 - val_precision: 0.9835 - val_recall: 0.9831\n",
            "Epoch 33/50\n",
            "\u001b[1m1225/1225\u001b[0m \u001b[32m━━━━━━━━━━━━━━━━━━━━\u001b[0m\u001b[37m\u001b[0m \u001b[1m20s\u001b[0m 10ms/step - accuracy: 0.9838 - loss: 0.0401 - precision: 0.9842 - recall: 0.9834 - val_accuracy: 0.9821 - val_loss: 0.0427 - val_precision: 0.9823 - val_recall: 0.9818\n",
            "Epoch 34/50\n",
            "\u001b[1m1225/1225\u001b[0m \u001b[32m━━━━━━━━━━━━━━━━━━━━\u001b[0m\u001b[37m\u001b[0m \u001b[1m13s\u001b[0m 10ms/step - accuracy: 0.9829 - loss: 0.0406 - precision: 0.9834 - recall: 0.9821 - val_accuracy: 0.9834 - val_loss: 0.0410 - val_precision: 0.9834 - val_recall: 0.9829\n",
            "Epoch 35/50\n",
            "\u001b[1m1225/1225\u001b[0m \u001b[32m━━━━━━━━━━━━━━━━━━━━\u001b[0m\u001b[37m\u001b[0m \u001b[1m13s\u001b[0m 10ms/step - accuracy: 0.9838 - loss: 0.0380 - precision: 0.9841 - recall: 0.9833 - val_accuracy: 0.9836 - val_loss: 0.0411 - val_precision: 0.9836 - val_recall: 0.9834\n",
            "Epoch 36/50\n",
            "\u001b[1m1225/1225\u001b[0m \u001b[32m━━━━━━━━━━━━━━━━━━━━\u001b[0m\u001b[37m\u001b[0m \u001b[1m18s\u001b[0m 9ms/step - accuracy: 0.9854 - loss: 0.0376 - precision: 0.9858 - recall: 0.9846 - val_accuracy: 0.9834 - val_loss: 0.0410 - val_precision: 0.9834 - val_recall: 0.9833\n",
            "Epoch 37/50\n",
            "\u001b[1m1225/1225\u001b[0m \u001b[32m━━━━━━━━━━━━━━━━━━━━\u001b[0m\u001b[37m\u001b[0m \u001b[1m22s\u001b[0m 10ms/step - accuracy: 0.9842 - loss: 0.0399 - precision: 0.9845 - recall: 0.9837 - val_accuracy: 0.9835 - val_loss: 0.0403 - val_precision: 0.9835 - val_recall: 0.9833\n",
            "Epoch 38/50\n",
            "\u001b[1m1225/1225\u001b[0m \u001b[32m━━━━━━━━━━━━━━━━━━━━\u001b[0m\u001b[37m\u001b[0m \u001b[1m21s\u001b[0m 10ms/step - accuracy: 0.9844 - loss: 0.0389 - precision: 0.9849 - recall: 0.9838 - val_accuracy: 0.9835 - val_loss: 0.0407 - val_precision: 0.9835 - val_recall: 0.9833\n",
            "Epoch 39/50\n",
            "\u001b[1m1225/1225\u001b[0m \u001b[32m━━━━━━━━━━━━━━━━━━━━\u001b[0m\u001b[37m\u001b[0m \u001b[1m13s\u001b[0m 10ms/step - accuracy: 0.9844 - loss: 0.0386 - precision: 0.9845 - recall: 0.9836 - val_accuracy: 0.9833 - val_loss: 0.0421 - val_precision: 0.9832 - val_recall: 0.9831\n",
            "Epoch 40/50\n",
            "\u001b[1m1225/1225\u001b[0m \u001b[32m━━━━━━━━━━━━━━━━━━━━\u001b[0m\u001b[37m\u001b[0m \u001b[1m11s\u001b[0m 9ms/step - accuracy: 0.9849 - loss: 0.0380 - precision: 0.9853 - recall: 0.9845 - val_accuracy: 0.9836 - val_loss: 0.0397 - val_precision: 0.9836 - val_recall: 0.9835\n",
            "Epoch 41/50\n",
            "\u001b[1m1225/1225\u001b[0m \u001b[32m━━━━━━━━━━━━━━━━━━━━\u001b[0m\u001b[37m\u001b[0m \u001b[1m22s\u001b[0m 10ms/step - accuracy: 0.9845 - loss: 0.0374 - precision: 0.9847 - recall: 0.9841 - val_accuracy: 0.9836 - val_loss: 0.0398 - val_precision: 0.9836 - val_recall: 0.9836\n",
            "Epoch 42/50\n",
            "\u001b[1m1225/1225\u001b[0m \u001b[32m━━━━━━━━━━━━━━━━━━━━\u001b[0m\u001b[37m\u001b[0m \u001b[1m13s\u001b[0m 10ms/step - accuracy: 0.9851 - loss: 0.0368 - precision: 0.9853 - recall: 0.9845 - val_accuracy: 0.9835 - val_loss: 0.0403 - val_precision: 0.9835 - val_recall: 0.9835\n",
            "Epoch 43/50\n",
            "\u001b[1m1225/1225\u001b[0m \u001b[32m━━━━━━━━━━━━━━━━━━━━\u001b[0m\u001b[37m\u001b[0m \u001b[1m21s\u001b[0m 10ms/step - accuracy: 0.9844 - loss: 0.0373 - precision: 0.9847 - recall: 0.9840 - val_accuracy: 0.9835 - val_loss: 0.0399 - val_precision: 0.9835 - val_recall: 0.9835\n",
            "Epoch 44/50\n",
            "\u001b[1m1225/1225\u001b[0m \u001b[32m━━━━━━━━━━━━━━━━━━━━\u001b[0m\u001b[37m\u001b[0m \u001b[1m20s\u001b[0m 10ms/step - accuracy: 0.9840 - loss: 0.0379 - precision: 0.9841 - recall: 0.9837 - val_accuracy: 0.9821 - val_loss: 0.0437 - val_precision: 0.9821 - val_recall: 0.9821\n",
            "Epoch 45/50\n",
            "\u001b[1m1225/1225\u001b[0m \u001b[32m━━━━━━━━━━━━━━━━━━━━\u001b[0m\u001b[37m\u001b[0m \u001b[1m21s\u001b[0m 11ms/step - accuracy: 0.9854 - loss: 0.0368 - precision: 0.9856 - recall: 0.9849 - val_accuracy: 0.9838 - val_loss: 0.0395 - val_precision: 0.9838 - val_recall: 0.9838\n",
            "Epoch 46/50\n",
            "\u001b[1m1225/1225\u001b[0m \u001b[32m━━━━━━━━━━━━━━━━━━━━\u001b[0m\u001b[37m\u001b[0m \u001b[1m21s\u001b[0m 11ms/step - accuracy: 0.9845 - loss: 0.0362 - precision: 0.9847 - recall: 0.9842 - val_accuracy: 0.9837 - val_loss: 0.0393 - val_precision: 0.9837 - val_recall: 0.9837\n",
            "Epoch 47/50\n",
            "\u001b[1m1225/1225\u001b[0m \u001b[32m━━━━━━━━━━━━━━━━━━━━\u001b[0m\u001b[37m\u001b[0m \u001b[1m19s\u001b[0m 10ms/step - accuracy: 0.9829 - loss: 0.0386 - precision: 0.9831 - recall: 0.9825 - val_accuracy: 0.9838 - val_loss: 0.0397 - val_precision: 0.9838 - val_recall: 0.9838\n",
            "Epoch 48/50\n",
            "\u001b[1m1225/1225\u001b[0m \u001b[32m━━━━━━━━━━━━━━━━━━━━\u001b[0m\u001b[37m\u001b[0m \u001b[1m12s\u001b[0m 10ms/step - accuracy: 0.9834 - loss: 0.0388 - precision: 0.9836 - recall: 0.9830 - val_accuracy: 0.9835 - val_loss: 0.0397 - val_precision: 0.9836 - val_recall: 0.9835\n",
            "Epoch 49/50\n",
            "\u001b[1m1225/1225\u001b[0m \u001b[32m━━━━━━━━━━━━━━━━━━━━\u001b[0m\u001b[37m\u001b[0m \u001b[1m21s\u001b[0m 10ms/step - accuracy: 0.9842 - loss: 0.0367 - precision: 0.9845 - recall: 0.9838 - val_accuracy: 0.9837 - val_loss: 0.0390 - val_precision: 0.9838 - val_recall: 0.9837\n",
            "Epoch 50/50\n",
            "\u001b[1m1225/1225\u001b[0m \u001b[32m━━━━━━━━━━━━━━━━━━━━\u001b[0m\u001b[37m\u001b[0m \u001b[1m12s\u001b[0m 10ms/step - accuracy: 0.9833 - loss: 0.0392 - precision: 0.9836 - recall: 0.9832 - val_accuracy: 0.9836 - val_loss: 0.0394 - val_precision: 0.9836 - val_recall: 0.9836\n"
          ]
        }
      ]
    },
    {
      "cell_type": "markdown",
      "source": [
        "# Đánh giá model"
      ],
      "metadata": {
        "id": "xDgrwAWiwSgt"
      }
    },
    {
      "cell_type": "code",
      "source": [
        "import matplotlib.pyplot as plt\n",
        "# Đánh giá mô hình trên tập test\n",
        "loss, accuracy, precision, recall = model.evaluate(X_test, y_test)\n",
        "print(f'Accuracy: {accuracy*100:.2f}%')\n",
        "print(f'Loss: {loss}')\n",
        "print(f'Precision: {precision*100:.2f}%')\n",
        "print(f'Recall: {recall*100:.2f}%')\n",
        "\n",
        "# Lưu mô hình\n",
        "model.save('my_model.keras')\n",
        "\n",
        "# Tạo figure và chia làm 2 subplot\n",
        "fig, axs = plt.subplots(1, 2, figsize=(12, 5))\n",
        "\n",
        "# Vẽ biểu đồ Accuracy\n",
        "axs[0].plot(history.history['accuracy'], label='Train Accuracy')\n",
        "axs[0].plot(history.history['val_accuracy'], label='Validation Accuracy')\n",
        "axs[0].set_title('Model Accuracy')\n",
        "axs[0].set_xlabel('Epoch')\n",
        "axs[0].set_ylabel('Accuracy')\n",
        "axs[0].legend(loc='upper left')\n",
        "\n",
        "# Vẽ biểu đồ Loss\n",
        "axs[1].plot(history.history['loss'], label='Train Loss')\n",
        "axs[1].plot(history.history['val_loss'], label='Validation Loss')\n",
        "axs[1].set_title('Model Loss')\n",
        "axs[1].set_xlabel('Epoch')\n",
        "axs[1].set_ylabel('Loss')\n",
        "axs[1].legend(loc='upper left')\n",
        "\n",
        "# Hiển thị cả hai biểu đồ cùng lúc\n",
        "plt.tight_layout()\n",
        "plt.show()"
      ],
      "metadata": {
        "colab": {
          "base_uri": "https://localhost:8080/",
          "height": 505
        },
        "id": "lsUnUiVdwFty",
        "outputId": "590782c8-c947-4289-be28-5ddab8e975e4"
      },
      "execution_count": null,
      "outputs": [
        {
          "output_type": "stream",
          "name": "stdout",
          "text": [
            "\u001b[1m306/306\u001b[0m \u001b[32m━━━━━━━━━━━━━━━━━━━━\u001b[0m\u001b[37m\u001b[0m \u001b[1m1s\u001b[0m 3ms/step - accuracy: 0.9950 - loss: 0.0180 - precision: 0.9950 - recall: 0.9950\n",
            "Accuracy: 98.36%\n",
            "Loss: 0.03938180208206177\n",
            "Precision: 98.36%\n",
            "Recall: 98.36%\n"
          ]
        },
        {
          "output_type": "display_data",
          "data": {
            "text/plain": [
              "<Figure size 1200x500 with 2 Axes>"
            ],
            "image/png": "[encoded data removed]"
          },
          "metadata": {}
        }
      ]
    },
    {
      "cell_type": "markdown",
      "source": [
        "# Thử nghiệm"
      ],
      "metadata": {
        "id": "TqN1rDNP0qG8"
      }
    },
    {
      "cell_type": "code",
      "source": [
        "# Sử dụng mô hình đã huấn luyện để dự đoán trên tập kiểm tra\n",
        "y_pred = model.predict(Xp)\n",
        "\n",
        "# Chuyển dự đoán thành nhãn\n",
        "y_pred_labels = np.argmax(y_pred, axis=1)\n",
        "y_test_labels = np.argmax(yp, axis=1)\n",
        "\n",
        "# Giải mã nhãn dự đoán thành tên loại tấn công\n",
        "predicted_attack_names = label_encoder.inverse_transform(y_pred_labels)\n",
        "\n",
        "# Hiển thị nhãn thực tế và nhãn dự đoán\n",
        "print(\"Nhãn thực tế và dự đoán:\")\n",
        "for i in range(len(y_pred_labels)):  # In 10 dự đoán đầu tiên để kiểm tra\n",
        "    print(f\"Nhãn thực tế: {label_encoder.inverse_transform([y_test_labels[i]])[0]} - Dự đoán: {predicted_attack_names[i]}\")"
      ],
      "metadata": {
        "colab": {
          "base_uri": "https://localhost:8080/"
        },
        "id": "0oO7sKFX0m7G",
        "outputId": "7e54b660-9c36-4b42-82e2-19b566897c62"
      },
      "execution_count": null,
      "outputs": [
        {
          "output_type": "stream",
          "name": "stdout",
          "text": [
            "\u001b[1m3/3\u001b[0m \u001b[32m━━━━━━━━━━━━━━━━━━━━\u001b[0m\u001b[37m\u001b[0m \u001b[1m0s\u001b[0m 3ms/step \n",
            "Nhãn thực tế và dự đoán:\n",
            "Nhãn thực tế: BENIGN - Dự đoán: BENIGN\n",
            "Nhãn thực tế: BENIGN - Dự đoán: BENIGN\n",
            "Nhãn thực tế: BENIGN - Dự đoán: BENIGN\n",
            "Nhãn thực tế: BENIGN - Dự đoán: BENIGN\n",
            "Nhãn thực tế: Bot - Dự đoán: Bot\n",
            "Nhãn thực tế: Bot - Dự đoán: Bot\n",
            "Nhãn thực tế: Bot - Dự đoán: Bot\n",
            "Nhãn thực tế: Bot - Dự đoán: Bot\n",
            "Nhãn thực tế: Bot - Dự đoán: Bot\n",
            "Nhãn thực tế: DDoS - Dự đoán: DDoS\n",
            "Nhãn thực tế: DDoS - Dự đoán: DDoS\n",
            "Nhãn thực tế: DDoS - Dự đoán: DDoS\n",
            "Nhãn thực tế: DDoS - Dự đoán: DDoS\n",
            "Nhãn thực tế: DDoS - Dự đoán: DDoS\n",
            "Nhãn thực tế: DoS GoldenEye - Dự đoán: DoS GoldenEye\n",
            "Nhãn thực tế: DoS GoldenEye - Dự đoán: DoS GoldenEye\n",
            "Nhãn thực tế: DoS GoldenEye - Dự đoán: DoS GoldenEye\n",
            "Nhãn thực tế: DoS GoldenEye - Dự đoán: DoS GoldenEye\n",
            "Nhãn thực tế: DoS GoldenEye - Dự đoán: DoS GoldenEye\n",
            "Nhãn thực tế: DoS Hulk - Dự đoán: DoS Hulk\n",
            "Nhãn thực tế: DoS Hulk - Dự đoán: DoS Hulk\n",
            "Nhãn thực tế: DoS Hulk - Dự đoán: DoS Hulk\n",
            "Nhãn thực tế: DoS Hulk - Dự đoán: DoS Hulk\n",
            "Nhãn thực tế: DoS Hulk - Dự đoán: DoS Hulk\n",
            "Nhãn thực tế: DoS Slowhttptest - Dự đoán: DoS Slowhttptest\n",
            "Nhãn thực tế: DoS Slowhttptest - Dự đoán: DoS Slowhttptest\n",
            "Nhãn thực tế: DoS Slowhttptest - Dự đoán: DoS Slowhttptest\n",
            "Nhãn thực tế: DoS Slowhttptest - Dự đoán: DoS Slowhttptest\n",
            "Nhãn thực tế: DoS Slowhttptest - Dự đoán: DoS Slowhttptest\n",
            "Nhãn thực tế: DoS slowloris - Dự đoán: DoS slowloris\n",
            "Nhãn thực tế: DoS slowloris - Dự đoán: DoS slowloris\n",
            "Nhãn thực tế: DoS slowloris - Dự đoán: DoS slowloris\n",
            "Nhãn thực tế: DoS slowloris - Dự đoán: DoS slowloris\n",
            "Nhãn thực tế: DoS slowloris - Dự đoán: DoS slowloris\n",
            "Nhãn thực tế: FTP-Patator - Dự đoán: FTP-Patator\n",
            "Nhãn thực tế: FTP-Patator - Dự đoán: FTP-Patator\n",
            "Nhãn thực tế: FTP-Patator - Dự đoán: FTP-Patator\n",
            "Nhãn thực tế: FTP-Patator - Dự đoán: FTP-Patator\n",
            "Nhãn thực tế: FTP-Patator - Dự đoán: FTP-Patator\n",
            "Nhãn thực tế: Heartbleed - Dự đoán: Heartbleed\n",
            "Nhãn thực tế: Heartbleed - Dự đoán: Heartbleed\n",
            "Nhãn thực tế: Infiltration - Dự đoán: Infiltration\n",
            "Nhãn thực tế: Infiltration - Dự đoán: BENIGN\n",
            "Nhãn thực tế: Infiltration - Dự đoán: Infiltration\n",
            "Nhãn thực tế: Infiltration - Dự đoán: Infiltration\n",
            "Nhãn thực tế: Infiltration - Dự đoán: Infiltration\n",
            "Nhãn thực tế: PortScan - Dự đoán: PortScan\n",
            "Nhãn thực tế: PortScan - Dự đoán: PortScan\n",
            "Nhãn thực tế: PortScan - Dự đoán: PortScan\n",
            "Nhãn thực tế: PortScan - Dự đoán: PortScan\n",
            "Nhãn thực tế: PortScan - Dự đoán: PortScan\n",
            "Nhãn thực tế: SSH-Patator - Dự đoán: SSH-Patator\n",
            "Nhãn thực tế: SSH-Patator - Dự đoán: SSH-Patator\n",
            "Nhãn thực tế: SSH-Patator - Dự đoán: SSH-Patator\n",
            "Nhãn thực tế: SSH-Patator - Dự đoán: SSH-Patator\n",
            "Nhãn thực tế: SSH-Patator - Dự đoán: SSH-Patator\n",
            "Nhãn thực tế: Web Attack � Brute Force - Dự đoán: Web Attack � Brute Force\n",
            "Nhãn thực tế: Web Attack � Brute Force - Dự đoán: Web Attack � Brute Force\n",
            "Nhãn thực tế: Web Attack � Brute Force - Dự đoán: Web Attack � Brute Force\n",
            "Nhãn thực tế: Web Attack � Brute Force - Dự đoán: Web Attack � Brute Force\n",
            "Nhãn thực tế: Web Attack � Brute Force - Dự đoán: Web Attack � Brute Force\n",
            "Nhãn thực tế: Web Attack � Sql Injection - Dự đoán: Web Attack � Sql Injection\n",
            "Nhãn thực tế: Web Attack � Sql Injection - Dự đoán: SSH-Patator\n",
            "Nhãn thực tế: Web Attack � Sql Injection - Dự đoán: SSH-Patator\n",
            "Nhãn thực tế: Web Attack � Sql Injection - Dự đoán: DoS GoldenEye\n",
            "Nhãn thực tế: Web Attack � XSS - Dự đoán: Web Attack � Brute Force\n",
            "Nhãn thực tế: Web Attack � XSS - Dự đoán: Web Attack � Brute Force\n",
            "Nhãn thực tế: Web Attack � XSS - Dự đoán: Web Attack � Brute Force\n",
            "Nhãn thực tế: Web Attack � XSS - Dự đoán: Web Attack � Brute Force\n",
            "Nhãn thực tế: Web Attack � XSS - Dự đoán: Web Attack � Brute Force\n"
          ]
        }
      ]
    }
  ]
}